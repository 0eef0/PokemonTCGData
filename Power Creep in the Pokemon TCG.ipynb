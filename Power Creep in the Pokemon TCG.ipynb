{
 "cells": [
  {
   "cell_type": "markdown",
   "id": "fff43654",
   "metadata": {},
   "source": [
    "# Introduction\n",
    "## What is power creep?\n",
    "According to an article on plarium.com, power creep is \"when new elements are introduced into a game, with increased strength or abilities, making the existing elements much weaker or even useless.\" This ultimately results in a game where older elements seem underpowered and outclassed among the new elements. Power creep is a common practice in many competitive games, as it helps retention and keeps people interested in a game. So how does this factor in the Pokemon TCG? Let's look at an example of this in the form of the series mascot: Pikachu."
   ]
  },
  {
   "cell_type": "markdown",
   "id": "9bf325f7",
   "metadata": {},
   "source": [
    "\\begin{figure}[h]\n",
    "\\centering\n",
    "\\hspace*{0.05\\textwidth} % left margin\n",
    "\\begin{minipage}{0.3\\textwidth}\n",
    "    \\centering\n",
    "    \\includegraphics[width=\\linewidth]{assets/pikachu_base.jpg}\n",
    "    \\caption*{Pikachu Base}\n",
    "\\end{minipage}\n",
    "\\hspace*{0.05\\textwidth} % space between images\n",
    "\\begin{minipage}{0.3\\textwidth}\n",
    "    \\centering\n",
    "    \\includegraphics[width=\\linewidth]{assets/pikachu_modern.jpg}\n",
    "    \\caption*{Pikachu Modern}\n",
    "\\end{minipage}\n",
    "\\hspace*{0.05\\textwidth} % right margin\n",
    "\\end{figure}\n",
    "\n",
    "\n",
    "Pictured above on the left is the very first Pikachu card ever printed, all the way back in 1999. On the right, we have the most recent Pikachu card printed, being printed in 2024. In addition to being flashier and shinier, the Pikachu on the right has five times the amount of health as the Pikachu on the left, and it even does ten times the damage. What happened between 1995 and 2024 to trigger such a drastic change? This question is what inspired me to take a deeper dive into the history of the Pokemon TCG and its cards to further understand how power creep could have such a big impact on these cards.\n",
    "\n",
    "\\pagebreak"
   ]
  },
  {
   "cell_type": "markdown",
   "id": "7a47e9c2",
   "metadata": {
    "vscode": {
     "languageId": "plaintext"
    }
   },
   "source": [
    "## Importing our libraries\n",
    "The following code is run to import the necessary libraries used to explore the data:"
   ]
  },
  {
   "cell_type": "code",
   "execution_count": 253,
   "id": "64875274",
   "metadata": {},
   "outputs": [],
   "source": [
    "# Command for conversion [remove later]\n",
    "# jupyter nbconvert Power\\ Creep\\ in\\ the\\ Pokemon\\ TCG.ipynb --to pdf --PDFExporter.extra_paths=\"./assets\"\n",
    "\n",
    "import numpy as np\n",
    "import pandas as pd\n",
    "import matplotlib.pyplot as plt"
   ]
  },
  {
   "cell_type": "markdown",
   "id": "c08909a5",
   "metadata": {},
   "source": [
    "## Importing our dataset\n",
    "The dataset I will be using for this study was taken from <a href=\"https://www.kaggle.com/datasets/adampq/pokemon-tcg-all-cards-1999-2023\">kaggle.com</a>. The data is then imported with the code below:"
   ]
  },
  {
   "cell_type": "code",
   "execution_count": 254,
   "id": "7615a6c2",
   "metadata": {},
   "outputs": [],
   "source": [
    "df = pd.read_csv(\"dataset/pokemon-tcg-data-master 1999-2023.csv\")"
   ]
  },
  {
   "cell_type": "markdown",
   "id": "74c6923e",
   "metadata": {},
   "source": [
    "## Interpreting the dataset\n",
    "We can then print the head of the dataset to get acquainted with the dataset and all of its fields with the following code:"
   ]
  },
  {
   "cell_type": "code",
   "execution_count": 255,
   "id": "fc541f48",
   "metadata": {},
   "outputs": [
    {
     "data": {
      "text/html": [
       "<div>\n",
       "<style scoped>\n",
       "    .dataframe tbody tr th:only-of-type {\n",
       "        vertical-align: middle;\n",
       "    }\n",
       "\n",
       "    .dataframe tbody tr th {\n",
       "        vertical-align: top;\n",
       "    }\n",
       "\n",
       "    .dataframe thead th {\n",
       "        text-align: right;\n",
       "    }\n",
       "</style>\n",
       "<table border=\"1\" class=\"dataframe\">\n",
       "  <thead>\n",
       "    <tr style=\"text-align: right;\">\n",
       "      <th></th>\n",
       "      <th>id</th>\n",
       "      <th>set</th>\n",
       "      <th>series</th>\n",
       "      <th>publisher</th>\n",
       "      <th>generation</th>\n",
       "      <th>release_date</th>\n",
       "      <th>artist</th>\n",
       "      <th>name</th>\n",
       "      <th>set_num</th>\n",
       "      <th>types</th>\n",
       "      <th>supertype</th>\n",
       "      <th>subtypes</th>\n",
       "      <th>level</th>\n",
       "      <th>hp</th>\n",
       "      <th>evolvesFrom</th>\n",
       "      <th>evolvesTo</th>\n",
       "      <th>abilities</th>\n",
       "      <th>attacks</th>\n",
       "      <th>weaknesses</th>\n",
       "      <th>retreatCost</th>\n",
       "      <th>convertedRetreatCost</th>\n",
       "      <th>rarity</th>\n",
       "      <th>flavorText</th>\n",
       "      <th>nationalPokedexNumbers</th>\n",
       "      <th>legalities</th>\n",
       "      <th>resistances</th>\n",
       "      <th>rules</th>\n",
       "      <th>regulationMark</th>\n",
       "      <th>ancientTrait</th>\n",
       "    </tr>\n",
       "  </thead>\n",
       "  <tbody>\n",
       "    <tr>\n",
       "      <th>0</th>\n",
       "      <td>base1-1</td>\n",
       "      <td>Base</td>\n",
       "      <td>Base</td>\n",
       "      <td>WOTC</td>\n",
       "      <td>First</td>\n",
       "      <td>1/9/1999</td>\n",
       "      <td>Ken Sugimori</td>\n",
       "      <td>Alakazam</td>\n",
       "      <td>1</td>\n",
       "      <td>['Psychic']</td>\n",
       "      <td>Pokémon</td>\n",
       "      <td>['Stage 2']</td>\n",
       "      <td>42</td>\n",
       "      <td>80.0</td>\n",
       "      <td>Kadabra</td>\n",
       "      <td>NaN</td>\n",
       "      <td>[{'name': 'Damage Swap', 'text': \"As often as ...</td>\n",
       "      <td>[{'name': 'Confuse Ray', 'cost': ['Psychic', '...</td>\n",
       "      <td>[{'type': 'Psychic', 'value': '×2'}]</td>\n",
       "      <td>['Colorless', 'Colorless', 'Colorless']</td>\n",
       "      <td>3.0</td>\n",
       "      <td>Rare Holo</td>\n",
       "      <td>Its brain can outperform a supercomputer. Its ...</td>\n",
       "      <td>[65]</td>\n",
       "      <td>{'unlimited': 'Legal'}</td>\n",
       "      <td>NaN</td>\n",
       "      <td>NaN</td>\n",
       "      <td>NaN</td>\n",
       "      <td>NaN</td>\n",
       "    </tr>\n",
       "  </tbody>\n",
       "</table>\n",
       "</div>"
      ],
      "text/plain": [
       "        id   set series publisher generation release_date        artist  \\\n",
       "0  base1-1  Base   Base      WOTC      First     1/9/1999  Ken Sugimori   \n",
       "\n",
       "       name set_num        types supertype     subtypes level    hp  \\\n",
       "0  Alakazam       1  ['Psychic']   Pokémon  ['Stage 2']    42  80.0   \n",
       "\n",
       "  evolvesFrom evolvesTo                                          abilities  \\\n",
       "0     Kadabra       NaN  [{'name': 'Damage Swap', 'text': \"As often as ...   \n",
       "\n",
       "                                             attacks  \\\n",
       "0  [{'name': 'Confuse Ray', 'cost': ['Psychic', '...   \n",
       "\n",
       "                             weaknesses  \\\n",
       "0  [{'type': 'Psychic', 'value': '×2'}]   \n",
       "\n",
       "                               retreatCost  convertedRetreatCost     rarity  \\\n",
       "0  ['Colorless', 'Colorless', 'Colorless']                   3.0  Rare Holo   \n",
       "\n",
       "                                          flavorText nationalPokedexNumbers  \\\n",
       "0  Its brain can outperform a supercomputer. Its ...                   [65]   \n",
       "\n",
       "               legalities resistances rules regulationMark ancientTrait  \n",
       "0  {'unlimited': 'Legal'}         NaN   NaN            NaN          NaN  "
      ]
     },
     "execution_count": 255,
     "metadata": {},
     "output_type": "execute_result"
    }
   ],
   "source": [
    "pd.set_option('display.max_columns', None)\n",
    "df.head(1)"
   ]
  },
  {
   "cell_type": "markdown",
   "id": "049a4421",
   "metadata": {},
   "source": [
    "Let's also break down what all of the data in the dataset means.\n",
    "\n",
    "- `id` (string)\n",
    "    - Each ID contains two pieces of information, split by a hyphen\n",
    "        - The name of the set the card originates from\n",
    "        - The ID number of the card within the set\n",
    "- `set` (string)\n",
    "    - The name of set the card originates from\n",
    "- `series` (string)\n",
    "    - The name of the series the card originates from. Each series contains multiple sets, and each series is generally split up by which generation of Pokemon games the series took place during\n",
    "- `publisher` (string)\n",
    "    - The name of the publisher that published the card\n",
    "- `generation` (string)\n",
    "    - The generation of Pokemon games that the series lines up with\n",
    "- `release_date` (date)\n",
    "    - The date the card was released\n",
    "- `artist`\n",
    "    - The artist the illustrated the card art\n",
    "- `name`\n",
    "    - The name of the card.\n",
    "- `set_num`\n",
    "    - The ID number of the card within the set it is in\n",
    "- `types`\n",
    "    - A list of types that the card is a part of.\n",
    "- `supertype`\n",
    "    - All cards are classified by one of three supertypes: Pokemon, Trainer, and Energy\n",
    "- `subtypes`\n",
    "    - Each supertype of card can have one or more subtypes\n",
    "        - Pokemon subtypes represent their evolution stage, and are mostly either basic, stage 1, or stage 2\n",
    "        - Trainer subtypes represent which type of trainer the card is, and can be supporter, item, tool, or stadium\n",
    "        - Energy subtypes represent whether or not they are basic or special\n",
    "- `level`\n",
    "    - Whenever applicable, the card's level represents what numeric level is printed on the card.\n",
    "- `hp`\n",
    "    - Whenever applicable, this is the card's health points. Applicable to Pokemon and some select trainers\n",
    "- `evolvesFrom`\n",
    "    - Whenever applicable, this represents which card the Pokemon has to be placed on top on in order to be put in play. Basic pokemon can be put in play right away, whereas Stage 1's must be placed on top of Basics, and Stage 2's need to be placed on top of Stage 1's\n",
    "- `evolvesTo`\n",
    "    - Whenever applicable, this represents which cards can be placed on top of this card in order to evolve the Pokemon.\n",
    "- `abilities`\n",
    "    - Whenever applicable, this is the card's ability, in the form of a dictionary. Abilities were previously referred to as both Poke-Bodies and Poke-Powers, which are also in this field.\n",
    "- `attacks`\n",
    "    - Whenever applicable, this is all of the attacks listed on the card. Each attack has its name, attack energy cost, and its damage and/or attack effects.\n",
    "- `weaknesses`\n",
    "    - Whenever applicable, this is any weaknesses the Pokemon has and how much more damage an attack would do to the card if it matches the weakness type.\n",
    "- `retreatCost`\n",
    "    - Whenever applicable, this is the amount of attached energy required for an active Pokemon to spend to retreat from the active to the bench. This field is in the form of an array of how much energy is required.\n",
    "- `convertedRetreatCost`\n",
    "    - Whenever applicable, this is the amount of attached energy required for an active Pokmeon to spend to retreat from the active to the bench. This field is in the form of a number.\n",
    "- `rarity`\n",
    "    - This is the rarity of the card\n",
    "- `flavorText`\n",
    "    - This is simply text on the bottom of the card, added for extra world building and context on the card. The flavor text has no impact on gameplay\n",
    "- `nationalPokedexNumbers`\n",
    "    - When applicable, this is the Pokedex ID number that the Pokemon on the card has in the Pokemon games\n",
    "- `legalities`\n",
    "    - This field contains all of the formats that the card is legal in\n",
    "- `resistances`\n",
    "    - Whenever applicable, this is any resistances the Pokemon has and how much damage is reduced from an attack if it matches the resistance type.\n",
    "- `rules`\n",
    "    - Whenever applicable, these are extra rules or restrictions placed an how a card is played in the game\n",
    "- `regulationMark`\n",
    "    - Whenever applicable, this represents what regulation the card is legal in\n",
    "- `ancientTrait`\n",
    "    - Whenever applicable, these are extra traits that a Pokemon have, usually postive attributes that help\n",
    "\n",
    "\n",
    "## Data Trimming\n",
    "\n",
    "This is a lot of data just for a Pokemon card, but not all of it will be required for our analysis. Because we are doing an analysis purely on how cards operate in a game and how much power creep has affected them over time, anything that does not directly interact with gameplay or represent the time period the card was released will not be needed for analysis. The given fields that are not related to gameplay are as follows:\n",
    "\n",
    "- `publisher`\n",
    "- `generation`\n",
    "- `artist`\n",
    "- `level`\n",
    "- `flavorText`\n",
    "- `nationalPokedexNumbers`\n",
    "- `legalities`\n",
    "\n",
    "Also, we also only need one of `retreatCost` and `convertedRetreatCost`, as they are two different fields that represent the same thing, and because `convertedRetreatCost` will be easier to work with, we can also cut `retreatCost`.\n",
    "\n",
    "We can use the following code to trim the unnecessary fields out of the dataset:"
   ]
  },
  {
   "cell_type": "code",
   "execution_count": 256,
   "id": "09b6ccbf",
   "metadata": {},
   "outputs": [],
   "source": [
    "df = df.drop([\n",
    "    'publisher',\n",
    "    'generation',\n",
    "    'artist',\n",
    "    'level',\n",
    "    'retreatCost',\n",
    "    'flavorText', \n",
    "    'nationalPokedexNumbers',\n",
    "    'legalities'\n",
    "], axis=1)"
   ]
  },
  {
   "cell_type": "markdown",
   "id": "7d787f1f",
   "metadata": {},
   "source": [
    "This is what each card will look like after trimming the data:"
   ]
  },
  {
   "cell_type": "code",
   "execution_count": 257,
   "id": "b3623e19",
   "metadata": {},
   "outputs": [
    {
     "data": {
      "text/html": [
       "<div>\n",
       "<style scoped>\n",
       "    .dataframe tbody tr th:only-of-type {\n",
       "        vertical-align: middle;\n",
       "    }\n",
       "\n",
       "    .dataframe tbody tr th {\n",
       "        vertical-align: top;\n",
       "    }\n",
       "\n",
       "    .dataframe thead th {\n",
       "        text-align: right;\n",
       "    }\n",
       "</style>\n",
       "<table border=\"1\" class=\"dataframe\">\n",
       "  <thead>\n",
       "    <tr style=\"text-align: right;\">\n",
       "      <th></th>\n",
       "      <th>id</th>\n",
       "      <th>set</th>\n",
       "      <th>series</th>\n",
       "      <th>release_date</th>\n",
       "      <th>name</th>\n",
       "      <th>set_num</th>\n",
       "      <th>types</th>\n",
       "      <th>supertype</th>\n",
       "      <th>subtypes</th>\n",
       "      <th>hp</th>\n",
       "      <th>evolvesFrom</th>\n",
       "      <th>evolvesTo</th>\n",
       "      <th>abilities</th>\n",
       "      <th>attacks</th>\n",
       "      <th>weaknesses</th>\n",
       "      <th>convertedRetreatCost</th>\n",
       "      <th>rarity</th>\n",
       "      <th>resistances</th>\n",
       "      <th>rules</th>\n",
       "      <th>regulationMark</th>\n",
       "      <th>ancientTrait</th>\n",
       "    </tr>\n",
       "  </thead>\n",
       "  <tbody>\n",
       "    <tr>\n",
       "      <th>0</th>\n",
       "      <td>base1-1</td>\n",
       "      <td>Base</td>\n",
       "      <td>Base</td>\n",
       "      <td>1/9/1999</td>\n",
       "      <td>Alakazam</td>\n",
       "      <td>1</td>\n",
       "      <td>['Psychic']</td>\n",
       "      <td>Pokémon</td>\n",
       "      <td>['Stage 2']</td>\n",
       "      <td>80.0</td>\n",
       "      <td>Kadabra</td>\n",
       "      <td>NaN</td>\n",
       "      <td>[{'name': 'Damage Swap', 'text': \"As often as ...</td>\n",
       "      <td>[{'name': 'Confuse Ray', 'cost': ['Psychic', '...</td>\n",
       "      <td>[{'type': 'Psychic', 'value': '×2'}]</td>\n",
       "      <td>3.0</td>\n",
       "      <td>Rare Holo</td>\n",
       "      <td>NaN</td>\n",
       "      <td>NaN</td>\n",
       "      <td>NaN</td>\n",
       "      <td>NaN</td>\n",
       "    </tr>\n",
       "  </tbody>\n",
       "</table>\n",
       "</div>"
      ],
      "text/plain": [
       "        id   set series release_date      name set_num        types supertype  \\\n",
       "0  base1-1  Base   Base     1/9/1999  Alakazam       1  ['Psychic']   Pokémon   \n",
       "\n",
       "      subtypes    hp evolvesFrom evolvesTo  \\\n",
       "0  ['Stage 2']  80.0     Kadabra       NaN   \n",
       "\n",
       "                                           abilities  \\\n",
       "0  [{'name': 'Damage Swap', 'text': \"As often as ...   \n",
       "\n",
       "                                             attacks  \\\n",
       "0  [{'name': 'Confuse Ray', 'cost': ['Psychic', '...   \n",
       "\n",
       "                             weaknesses  convertedRetreatCost     rarity  \\\n",
       "0  [{'type': 'Psychic', 'value': '×2'}]                   3.0  Rare Holo   \n",
       "\n",
       "  resistances rules regulationMark ancientTrait  \n",
       "0         NaN   NaN            NaN          NaN  "
      ]
     },
     "execution_count": 257,
     "metadata": {},
     "output_type": "execute_result"
    }
   ],
   "source": [
    "df.head(1)"
   ]
  },
  {
   "cell_type": "markdown",
   "id": "6f6359ce",
   "metadata": {},
   "source": [
    "# Data Analysis\n",
    "\n"
   ]
  },
  {
   "cell_type": "markdown",
   "id": "93768214",
   "metadata": {},
   "source": [
    "The first thing we should look at to see if power creep has taken place in the Pokemon TCG would be the HP stat on cards, and how it has changed over time. We can do this by taking the average HP for every set of the TCG and plotting them all to see how it increases over time."
   ]
  },
  {
   "cell_type": "code",
   "execution_count": 258,
   "id": "9656649b",
   "metadata": {},
   "outputs": [
    {
     "data": {
      "image/png": "[encoded data removed]",
      "text/plain": [
       "<Figure size 640x480 with 1 Axes>"
      ]
     },
     "metadata": {},
     "output_type": "display_data"
    },
    {
     "name": "stdout",
     "output_type": "stream",
     "text": [
      "['Base', 'Gym', 'Neo', 'Other', 'E-Card', 'EX', 'NP', 'POP', 'Diamond & Pearl', 'Platinum', 'HeartGold & SoulSilver', 'Black & White', 'XY', 'Sun & Moon', 'Sword & Shield', 'Scarlet & Violet']\n",
      "['Base', 'Gym', 'Neo', 'Other', 'E-Card', 'EX', 'NP', 'POP', 'Diamond & Pearl', 'Platinum', 'HeartGold & SoulSilver', 'Black & White', 'XY', 'Sun & Moon', 'Sword & Shield', 'Scarlet & Violet']\n"
     ]
    }
   ],
   "source": [
    "Sets = df['series'].astype(str).unique().tolist()\n",
    "AverageHpPerSet = df.groupby('series', sort=False)['hp'].mean().reset_index()['hp'].tolist()\n",
    "\n",
    "plt.xlabel('Set')\n",
    "plt.xticks(rotation=45, ha='right')  # ha = horizontal alignment\n",
    "plt.ylabel('Average HP Stat')\n",
    "plt.title('Average HP for Pokemon Over Time')\n",
    "\n",
    "plt.scatter(Sets, AverageHpPerSet, label='HP Over Time')\n",
    "plt.show()\n",
    "\n",
    "print(df['series'].astype(str).unique().tolist())\n",
    "print(Sets)\n"
   ]
  }
 ],
 "metadata": {
  "kernelspec": {
   "display_name": "Python 3",
   "language": "python",
   "name": "python3"
  },
  "language_info": {
   "codemirror_mode": {
    "name": "ipython",
    "version": 3
   },
   "file_extension": ".py",
   "mimetype": "text/x-python",
   "name": "python",
   "nbconvert_exporter": "python",
   "pygments_lexer": "ipython3",
   "version": "3.12.3"
  }
 },
 "nbformat": 4,
 "nbformat_minor": 5
}
